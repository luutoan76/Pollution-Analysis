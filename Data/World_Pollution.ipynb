{
 "cells": [
  {
   "cell_type": "code",
   "execution_count": 1,
   "id": "a687e1c0",
   "metadata": {},
   "outputs": [
    {
     "name": "stderr",
     "output_type": "stream",
     "text": [
      "/Users/luuvan/Library/Python/3.9/lib/python/site-packages/urllib3/__init__.py:35: NotOpenSSLWarning: urllib3 v2 only supports OpenSSL 1.1.1+, currently the 'ssl' module is compiled with 'LibreSSL 2.8.3'. See: https://github.com/urllib3/urllib3/issues/3020\n",
      "  warnings.warn(\n"
     ]
    },
    {
     "name": "stdout",
     "output_type": "stream",
     "text": [
      "Country Code         0\n",
      "City             29146\n",
      "Location             2\n",
      "Coordinates         70\n",
      "Pollutant            0\n",
      "Source Name          0\n",
      "Unit                 0\n",
      "Value                0\n",
      "Last Updated         0\n",
      "Country Label      127\n",
      "dtype: int64\n",
      "Country Code                        object\n",
      "City                                object\n",
      "Location                            object\n",
      "Coordinates                         object\n",
      "Pollutant                           object\n",
      "Source Name                         object\n",
      "Unit                                object\n",
      "Value                              float64\n",
      "Last Updated     datetime64[ns, UTC+07:00]\n",
      "Country Label                       object\n",
      "dtype: object\n"
     ]
    },
    {
     "data": {
      "text/html": [
       "<div>\n",
       "<style scoped>\n",
       "    .dataframe tbody tr th:only-of-type {\n",
       "        vertical-align: middle;\n",
       "    }\n",
       "\n",
       "    .dataframe tbody tr th {\n",
       "        vertical-align: top;\n",
       "    }\n",
       "\n",
       "    .dataframe thead th {\n",
       "        text-align: right;\n",
       "    }\n",
       "</style>\n",
       "<table border=\"1\" class=\"dataframe\">\n",
       "  <thead>\n",
       "    <tr style=\"text-align: right;\">\n",
       "      <th></th>\n",
       "      <th>Country Code</th>\n",
       "      <th>City</th>\n",
       "      <th>Location</th>\n",
       "      <th>Coordinates</th>\n",
       "      <th>Pollutant</th>\n",
       "      <th>Source Name</th>\n",
       "      <th>Unit</th>\n",
       "      <th>Value</th>\n",
       "      <th>Last Updated</th>\n",
       "      <th>Country Label</th>\n",
       "    </tr>\n",
       "  </thead>\n",
       "  <tbody>\n",
       "    <tr>\n",
       "      <th>0</th>\n",
       "      <td>ZA</td>\n",
       "      <td>Alfred Nzo</td>\n",
       "      <td>Luka</td>\n",
       "      <td>-25.5077634717075, 27.1838594119125</td>\n",
       "      <td>PM10</td>\n",
       "      <td>South Africa</td>\n",
       "      <td>µg/m³</td>\n",
       "      <td>20.0000</td>\n",
       "      <td>2023-04-25 06:00:00+07:00</td>\n",
       "      <td>South Africa</td>\n",
       "    </tr>\n",
       "    <tr>\n",
       "      <th>1</th>\n",
       "      <td>IN</td>\n",
       "      <td>NaN</td>\n",
       "      <td>ICRISAT Patancheru, Hyderabad - TSPCB</td>\n",
       "      <td>17.5184, 78.278777</td>\n",
       "      <td>SO2</td>\n",
       "      <td>caaqm</td>\n",
       "      <td>µg/m³</td>\n",
       "      <td>8.9000</td>\n",
       "      <td>2022-10-31 08:45:00+07:00</td>\n",
       "      <td>India</td>\n",
       "    </tr>\n",
       "    <tr>\n",
       "      <th>2</th>\n",
       "      <td>IT</td>\n",
       "      <td>via Cadello  CAGLIARI - Cagliari (CA)</td>\n",
       "      <td>CENCA1</td>\n",
       "      <td>39.23583300015611, 9.115000000173477</td>\n",
       "      <td>SO2</td>\n",
       "      <td>eea</td>\n",
       "      <td>µg/m³</td>\n",
       "      <td>0.5123</td>\n",
       "      <td>2025-01-12 04:00:00+07:00</td>\n",
       "      <td>Italy</td>\n",
       "    </tr>\n",
       "    <tr>\n",
       "      <th>3</th>\n",
       "      <td>JP</td>\n",
       "      <td>NaN</td>\n",
       "      <td>南アルプス市鏡中條１６４２－２</td>\n",
       "      <td>35.601667, 138.498611</td>\n",
       "      <td>NO2</td>\n",
       "      <td>japan-soramame</td>\n",
       "      <td>ppm</td>\n",
       "      <td>0.0020</td>\n",
       "      <td>2024-09-23 14:00:00+07:00</td>\n",
       "      <td>Japan</td>\n",
       "    </tr>\n",
       "    <tr>\n",
       "      <th>4</th>\n",
       "      <td>KR</td>\n",
       "      <td>NaN</td>\n",
       "      <td>대불</td>\n",
       "      <td>34.757839999999995, 126.452808</td>\n",
       "      <td>PM10</td>\n",
       "      <td>korea-air</td>\n",
       "      <td>µg/m³</td>\n",
       "      <td>24.0000</td>\n",
       "      <td>2025-01-28 16:00:00+07:00</td>\n",
       "      <td>Korea, Republic of</td>\n",
       "    </tr>\n",
       "  </tbody>\n",
       "</table>\n",
       "</div>"
      ],
      "text/plain": [
       "  Country Code                                   City  \\\n",
       "0           ZA                             Alfred Nzo   \n",
       "1           IN                                    NaN   \n",
       "2           IT  via Cadello  CAGLIARI - Cagliari (CA)   \n",
       "3           JP                                    NaN   \n",
       "4           KR                                    NaN   \n",
       "\n",
       "                                Location  \\\n",
       "0                                   Luka   \n",
       "1  ICRISAT Patancheru, Hyderabad - TSPCB   \n",
       "2                                 CENCA1   \n",
       "3                        南アルプス市鏡中條１６４２－２   \n",
       "4                                     대불   \n",
       "\n",
       "                            Coordinates Pollutant     Source Name   Unit  \\\n",
       "0   -25.5077634717075, 27.1838594119125      PM10    South Africa  µg/m³   \n",
       "1                    17.5184, 78.278777       SO2           caaqm  µg/m³   \n",
       "2  39.23583300015611, 9.115000000173477       SO2             eea  µg/m³   \n",
       "3                 35.601667, 138.498611       NO2  japan-soramame    ppm   \n",
       "4        34.757839999999995, 126.452808      PM10       korea-air  µg/m³   \n",
       "\n",
       "     Value              Last Updated       Country Label  \n",
       "0  20.0000 2023-04-25 06:00:00+07:00        South Africa  \n",
       "1   8.9000 2022-10-31 08:45:00+07:00               India  \n",
       "2   0.5123 2025-01-12 04:00:00+07:00               Italy  \n",
       "3   0.0020 2024-09-23 14:00:00+07:00               Japan  \n",
       "4  24.0000 2025-01-28 16:00:00+07:00  Korea, Republic of  "
      ]
     },
     "execution_count": 1,
     "metadata": {},
     "output_type": "execute_result"
    }
   ],
   "source": [
    "import requests\n",
    "import pandas as pd\n",
    "import matplotlib.pyplot as plt\n",
    "import seaborn as sns\n",
    "import plotly.express as px\n",
    "import nbformat\n",
    "\n",
    "df = pd.read_csv(\"openaq.csv\", sep=';')\n",
    "\n",
    "print(df.isnull().sum())\n",
    "\n",
    "# last updated convert to date time\n",
    "df['Last Updated'] = pd.to_datetime(df['Last Updated'], errors='coerce')\n",
    "df = df[df[\"Value\"] > 0]\n",
    "print(df.dtypes)\n",
    "\n",
    "df.head()\n"
   ]
  },
  {
   "cell_type": "code",
   "execution_count": 2,
   "id": "aa2ac3e2",
   "metadata": {},
   "outputs": [
    {
     "name": "stdout",
     "output_type": "stream",
     "text": [
      "['AJ' 'VM' 'XK' '-99' 'CE' 'BK' 'TI' 'TX' 'KV' 'IZ' 'UC']\n",
      "Country Code         0\n",
      "City             27308\n",
      "Location             2\n",
      "Coordinates         65\n",
      "Pollutant            0\n",
      "Source Name          0\n",
      "Unit                 0\n",
      "Value                0\n",
      "Last Updated         0\n",
      "Country Label        0\n",
      "dtype: int64\n"
     ]
    }
   ],
   "source": [
    "import pycountry\n",
    "\n",
    "# filling country label missing by using country code\n",
    "def get_country_name(country_code):\n",
    "    try:\n",
    "        return pycountry.countries.get(alpha_2 = country_code).name\n",
    "    except:\n",
    "        return None\n",
    "\n",
    "def fill_country_label(row):\n",
    "    if pd.notnull(row[\"Country Label\"]):\n",
    "        return row[\"Country Label\"]\n",
    "    else:\n",
    "        return get_country_name(row[\"Country Code\"])\n",
    "df[\"Country Label\"] = df.apply(fill_country_label, axis=1)\n",
    "missing_codes = df[df[\"Country Label\"].isna()][\"Country Code\"].unique()\n",
    "\n",
    "print(missing_codes)\n",
    "\n",
    "manual_map = {\n",
    "    \"AJ\": \"Azerbaijan\",\n",
    "    \"VM\": \"Viet Nam\",\n",
    "    \"XK\": \"Kosovo\",\n",
    "    \"-99\": \"Unknown\",\n",
    "    \"CE\": \"Sri Lanka\",\n",
    "    \"BK\": \"Bosnia and Herzegovina\",\n",
    "    \"UC\": \"Ukraine\",\n",
    "    \"TI\": \"Tajikistan\",\n",
    "    \"TX\": \"Turkmenistan\",\n",
    "    \"KV\": \"Kosovo\",\n",
    "    \"IZ\": \"Iraq\",\n",
    "    \"KU\": \"Kuwait\"\n",
    "}\n",
    "\n",
    "def manual_fill(row):\n",
    "    if pd.isna(row[\"Country Label\"]):\n",
    "        return manual_map.get(row[\"Country Code\"], row[\"Country Label\"])\n",
    "    else:\n",
    "        return row[\"Country Label\"]\n",
    "    \n",
    "df[\"Country Label\"] = df.apply(manual_fill, axis=1)\n",
    "\n",
    "print(df.isnull().sum())"
   ]
  },
  {
   "cell_type": "code",
   "execution_count": 3,
   "id": "85d54987",
   "metadata": {},
   "outputs": [
    {
     "name": "stdout",
     "output_type": "stream",
     "text": [
      "Country Code      0\n",
      "City              0\n",
      "Location          2\n",
      "Coordinates      65\n",
      "Pollutant         0\n",
      "Source Name       0\n",
      "Unit              0\n",
      "Value             0\n",
      "Last Updated      0\n",
      "Country Label     0\n",
      "dtype: int64\n"
     ]
    }
   ],
   "source": [
    "def fill_city(row):\n",
    "    if pd.notnull(row[\"City\"]):\n",
    "        return row[\"City\"]\n",
    "    elif pd.notnull(row[\"Location\"]):\n",
    "        return row[\"Location\"].split(\",\")[0].strip()\n",
    "    else:\n",
    "        return \"Unknown\" + str(row[\"Country Label\"])\n",
    "\n",
    "df[\"City\"] = df.apply(fill_city, axis=1)\n",
    "print(df.isnull().sum())\n"
   ]
  },
  {
   "cell_type": "code",
   "execution_count": 4,
   "id": "033b28a3",
   "metadata": {},
   "outputs": [
    {
     "name": "stdout",
     "output_type": "stream",
     "text": [
      "Country Code     0\n",
      "City             0\n",
      "Location         2\n",
      "Coordinates      0\n",
      "Pollutant        0\n",
      "Source Name      0\n",
      "Unit             0\n",
      "Value            0\n",
      "Last Updated     0\n",
      "Country Label    0\n",
      "dtype: int64\n"
     ]
    }
   ],
   "source": [
    "def fill_coordinates(row):\n",
    "    if pd.notnull(row[\"Coordinates\"]):\n",
    "        return row[\"Coordinates\"]\n",
    "    else:\n",
    "        return \"Unknown\"\n",
    "\n",
    "df[\"Coordinates\"] = df.apply(fill_coordinates, axis=1)\n",
    "print(df.isnull().sum())\n"
   ]
  },
  {
   "cell_type": "code",
   "execution_count": 5,
   "id": "5c1e22b9",
   "metadata": {},
   "outputs": [
    {
     "name": "stdout",
     "output_type": "stream",
     "text": [
      "      Country Code        City Location          Coordinates Pollutant  \\\n",
      "14954           US  MC CRACKEN      NaN  37.08725, -88.60802     PM2.5   \n",
      "19116           US  MC CRACKEN      NaN  37.08725, -88.60802        O3   \n",
      "\n",
      "      Source Name   Unit   Value              Last Updated  Country Label  \n",
      "14954      AirNow  µg/m³  13.000 2023-05-30 14:00:00+07:00  United States  \n",
      "19116      AirNow    ppm   0.011 2023-05-30 14:00:00+07:00  United States  \n",
      "Country Code     0\n",
      "City             0\n",
      "Location         0\n",
      "Coordinates      0\n",
      "Pollutant        0\n",
      "Source Name      0\n",
      "Unit             0\n",
      "Value            0\n",
      "Last Updated     0\n",
      "Country Label    0\n",
      "dtype: int64\n"
     ]
    }
   ],
   "source": [
    "print(df[df[\"Location\"].isna()]) \n",
    "df[\"Location\"] = df[\"Location\"].fillna(\"MC CRACKEN\")\n",
    "print(df.isnull().sum())\n",
    "\n",
    "#save cleaned data\n",
    "df.to_csv(\"cleaned_openaq.csv\", index=False)"
   ]
  },
  {
   "cell_type": "code",
   "execution_count": 6,
   "id": "4e822fcf",
   "metadata": {},
   "outputs": [
    {
     "name": "stdout",
     "output_type": "stream",
     "text": [
      "Country Code     0\n",
      "City             0\n",
      "Location         0\n",
      "Coordinates      0\n",
      "Pollutant        0\n",
      "Source Name      0\n",
      "Unit             0\n",
      "Value            0\n",
      "Last Updated     0\n",
      "Country Label    0\n",
      "dtype: int64\n"
     ]
    },
    {
     "data": {
      "text/html": [
       "<div>\n",
       "<style scoped>\n",
       "    .dataframe tbody tr th:only-of-type {\n",
       "        vertical-align: middle;\n",
       "    }\n",
       "\n",
       "    .dataframe tbody tr th {\n",
       "        vertical-align: top;\n",
       "    }\n",
       "\n",
       "    .dataframe thead th {\n",
       "        text-align: right;\n",
       "    }\n",
       "</style>\n",
       "<table border=\"1\" class=\"dataframe\">\n",
       "  <thead>\n",
       "    <tr style=\"text-align: right;\">\n",
       "      <th></th>\n",
       "      <th>Country Code</th>\n",
       "      <th>City</th>\n",
       "      <th>Location</th>\n",
       "      <th>Coordinates</th>\n",
       "      <th>Pollutant</th>\n",
       "      <th>Source Name</th>\n",
       "      <th>Unit</th>\n",
       "      <th>Value</th>\n",
       "      <th>Last Updated</th>\n",
       "      <th>Country Label</th>\n",
       "    </tr>\n",
       "  </thead>\n",
       "  <tbody>\n",
       "    <tr>\n",
       "      <th>0</th>\n",
       "      <td>ZA</td>\n",
       "      <td>Alfred Nzo</td>\n",
       "      <td>Luka</td>\n",
       "      <td>-25.5077634717075, 27.1838594119125</td>\n",
       "      <td>PM10</td>\n",
       "      <td>South Africa</td>\n",
       "      <td>µg/m³</td>\n",
       "      <td>20.0000</td>\n",
       "      <td>2023-04-25 06:00:00+07:00</td>\n",
       "      <td>South Africa</td>\n",
       "    </tr>\n",
       "    <tr>\n",
       "      <th>1</th>\n",
       "      <td>IN</td>\n",
       "      <td>ICRISAT Patancheru</td>\n",
       "      <td>ICRISAT Patancheru, Hyderabad - TSPCB</td>\n",
       "      <td>17.5184, 78.278777</td>\n",
       "      <td>SO2</td>\n",
       "      <td>caaqm</td>\n",
       "      <td>µg/m³</td>\n",
       "      <td>8.9000</td>\n",
       "      <td>2022-10-31 08:45:00+07:00</td>\n",
       "      <td>India</td>\n",
       "    </tr>\n",
       "    <tr>\n",
       "      <th>2</th>\n",
       "      <td>IT</td>\n",
       "      <td>via Cadello  CAGLIARI - Cagliari (CA)</td>\n",
       "      <td>CENCA1</td>\n",
       "      <td>39.23583300015611, 9.115000000173477</td>\n",
       "      <td>SO2</td>\n",
       "      <td>eea</td>\n",
       "      <td>µg/m³</td>\n",
       "      <td>0.5123</td>\n",
       "      <td>2025-01-12 04:00:00+07:00</td>\n",
       "      <td>Italy</td>\n",
       "    </tr>\n",
       "    <tr>\n",
       "      <th>3</th>\n",
       "      <td>JP</td>\n",
       "      <td>南アルプス市鏡中條１６４２－２</td>\n",
       "      <td>南アルプス市鏡中條１６４２－２</td>\n",
       "      <td>35.601667, 138.498611</td>\n",
       "      <td>NO2</td>\n",
       "      <td>japan-soramame</td>\n",
       "      <td>ppm</td>\n",
       "      <td>0.0020</td>\n",
       "      <td>2024-09-23 14:00:00+07:00</td>\n",
       "      <td>Japan</td>\n",
       "    </tr>\n",
       "    <tr>\n",
       "      <th>4</th>\n",
       "      <td>KR</td>\n",
       "      <td>대불</td>\n",
       "      <td>대불</td>\n",
       "      <td>34.757839999999995, 126.452808</td>\n",
       "      <td>PM10</td>\n",
       "      <td>korea-air</td>\n",
       "      <td>µg/m³</td>\n",
       "      <td>24.0000</td>\n",
       "      <td>2025-01-28 16:00:00+07:00</td>\n",
       "      <td>Korea, Republic of</td>\n",
       "    </tr>\n",
       "  </tbody>\n",
       "</table>\n",
       "</div>"
      ],
      "text/plain": [
       "  Country Code                                   City  \\\n",
       "0           ZA                             Alfred Nzo   \n",
       "1           IN                     ICRISAT Patancheru   \n",
       "2           IT  via Cadello  CAGLIARI - Cagliari (CA)   \n",
       "3           JP                        南アルプス市鏡中條１６４２－２   \n",
       "4           KR                                     대불   \n",
       "\n",
       "                                Location  \\\n",
       "0                                   Luka   \n",
       "1  ICRISAT Patancheru, Hyderabad - TSPCB   \n",
       "2                                 CENCA1   \n",
       "3                        南アルプス市鏡中條１６４２－２   \n",
       "4                                     대불   \n",
       "\n",
       "                            Coordinates Pollutant     Source Name   Unit  \\\n",
       "0   -25.5077634717075, 27.1838594119125      PM10    South Africa  µg/m³   \n",
       "1                    17.5184, 78.278777       SO2           caaqm  µg/m³   \n",
       "2  39.23583300015611, 9.115000000173477       SO2             eea  µg/m³   \n",
       "3                 35.601667, 138.498611       NO2  japan-soramame    ppm   \n",
       "4        34.757839999999995, 126.452808      PM10       korea-air  µg/m³   \n",
       "\n",
       "     Value              Last Updated       Country Label  \n",
       "0  20.0000 2023-04-25 06:00:00+07:00        South Africa  \n",
       "1   8.9000 2022-10-31 08:45:00+07:00               India  \n",
       "2   0.5123 2025-01-12 04:00:00+07:00               Italy  \n",
       "3   0.0020 2024-09-23 14:00:00+07:00               Japan  \n",
       "4  24.0000 2025-01-28 16:00:00+07:00  Korea, Republic of  "
      ]
     },
     "execution_count": 6,
     "metadata": {},
     "output_type": "execute_result"
    }
   ],
   "source": [
    "import requests\n",
    "import pandas as pd\n",
    "import matplotlib.pyplot as plt\n",
    "import seaborn as sns\n",
    "import plotly.express as px\n",
    "import nbformat\n",
    "\n",
    "df = pd.read_csv(\"cleaned_openaq.csv\")\n",
    "df['Last Updated'] = pd.to_datetime(df['Last Updated'], errors='coerce')\n",
    "print(df.isnull().sum())\n",
    "df.head()\n"
   ]
  },
  {
   "cell_type": "code",
   "execution_count": 15,
   "id": "98647755",
   "metadata": {},
   "outputs": [
    {
     "data": {
      "text/plain": [
       "([0, 1, 2, 3, 4, 5, 6, 7, 8, 9],\n",
       " [Text(0, 0, 'India'),\n",
       "  Text(1, 0, 'Nepal'),\n",
       "  Text(2, 0, 'Ghana'),\n",
       "  Text(3, 0, 'Indonesia'),\n",
       "  Text(4, 0, 'Peru'),\n",
       "  Text(5, 0, 'Korea, Republic of'),\n",
       "  Text(6, 0, 'Macedonia, The former Yugoslav Rep. of'),\n",
       "  Text(7, 0, 'Malta'),\n",
       "  Text(8, 0, 'Greece'),\n",
       "  Text(9, 0, 'Bulgaria')])"
      ]
     },
     "execution_count": 15,
     "metadata": {},
     "output_type": "execute_result"
    },
    {
     "data": {
      "image/png": "[encoded data removed]",
      "text/plain": [
       "<Figure size 640x480 with 1 Axes>"
      ]
     },
     "metadata": {},
     "output_type": "display_data"
    }
   ],
   "source": [
    "# top 10 most polluted country in 2024\n",
    "df2025 = df[df[\"Last Updated\"].dt.year == 2025]\n",
    "countryPollution = df2025.groupby(\"Country Label\")[\"Value\"].mean().reset_index()\n",
    "countryPollution = countryPollution.sort_values(by= \"Value\" ,ascending=False).head(10)\n",
    "\n",
    "\n",
    "\n",
    "\n",
    "sns.barplot(\n",
    "    data=countryPollution,\n",
    "    x=\"Country Label\",\n",
    "    y=\"Value\",\n",
    "    hue=\"Value\"\n",
    ")\n",
    "\n",
    "plt.title(\"Top 10 Most Polluted Countries in 2025\")\n",
    "plt.xlabel(\"Country\")\n",
    "plt.ylabel(\"Value\")\n",
    "plt.xticks(rotation=45)"
   ]
  },
  {
   "cell_type": "code",
   "execution_count": 18,
   "id": "7a17bc82",
   "metadata": {},
   "outputs": [
    {
     "data": {
      "image/png": "[encoded data removed]",
      "text/plain": [
       "<Figure size 1200x600 with 1 Axes>"
      ]
     },
     "metadata": {},
     "output_type": "display_data"
    }
   ],
   "source": [
    "pollutant = df2025[df2025[\"Country Label\"].isin(countryPollution[\"Country Label\"])]\n",
    "pollutant = pollutant.groupby([\"Country Label\", \"Pollutant\"])[\"Value\"].mean().reset_index()\n",
    "filter = [\"PM10\", \"PM2.5\", \"O3\", \"CO\", \"NO2\", \"SO2\", \"PM1\"]\n",
    "pollutant = pollutant[pollutant[\"Pollutant\"].isin(filter)]\n",
    "plt.figure(figsize=(12,6))\n",
    "sns.barplot(\n",
    "    data=pollutant,\n",
    "    x=\"Country Label\",\n",
    "    y=\"Value\",\n",
    "    hue=\"Pollutant\"\n",
    ")\n",
    "\n",
    "plt.title(\"Pollution Types in Top 10 Most Polluted Countries in 2025\", fontsize=14)\n",
    "plt.xlabel(\"Country\")\n",
    "plt.ylabel(\"Average Pollution Level\")\n",
    "plt.xticks(rotation=90)\n",
    "plt.legend(title=\"Pollutant\", bbox_to_anchor=(1.05, 1), loc='upper left')\n",
    "plt.tight_layout()"
   ]
  },
  {
   "cell_type": "code",
   "execution_count": 9,
   "id": "b83bbe13",
   "metadata": {},
   "outputs": [
    {
     "data": {
      "application/vnd.plotly.v1+json": {
       "config": {
        "plotlyServerURL": "https://plot.ly"
       },
       "data": [
        {
         "coloraxis": "coloraxis",
         "geo": "geo",
         "hovertemplate": "<b>%{hovertext}</b><br><br>Country Label=%{location}<br>Value=%{z}<extra></extra>",
         "hovertext": [
          "Algeria",
          "Andorra",
          "Argentina",
          "Australia",
          "Austria",
          "Azerbaijan",
          "Bangladesh",
          "Belgium",
          "Bosnia and Herzegovina",
          "Brazil",
          "Bulgaria",
          "Burkina Faso",
          "Canada",
          "Chile",
          "China",
          "Colombia",
          "Congo, Democratic Republic of the",
          "Croatia",
          "Cyprus",
          "Czech Republic",
          "Denmark",
          "Egypt",
          "Estonia",
          "Ethiopia",
          "Finland",
          "France",
          "Germany",
          "Ghana",
          "Greece",
          "Guatemala",
          "Hong Kong, China",
          "Hungary",
          "Iceland",
          "India",
          "Indonesia",
          "Iraq",
          "Ireland",
          "Italy",
          "Kazakhstan",
          "Korea, Republic of",
          "Kyrgyzstan",
          "Lao People's Dem. Rep.",
          "Latvia",
          "Luxembourg",
          "Macedonia, The former Yugoslav Rep. of",
          "Madagascar",
          "Malta",
          "Mexico",
          "Mongolia",
          "Montenegro",
          "Mozambique",
          "Myanmar",
          "Nepal",
          "Netherlands",
          "New Zealand",
          "Nigeria",
          "Norway",
          "Pakistan",
          "Peru",
          "Philippines",
          "Poland",
          "Puerto Rico",
          "Saint Martin (French part)",
          "Spain",
          "Sri Lanka",
          "Switzerland",
          "United Kingdom",
          "Unknown"
         ],
         "locationmode": "country names",
         "locations": [
          "Algeria",
          "Andorra",
          "Argentina",
          "Australia",
          "Austria",
          "Azerbaijan",
          "Bangladesh",
          "Belgium",
          "Bosnia and Herzegovina",
          "Brazil",
          "Bulgaria",
          "Burkina Faso",
          "Canada",
          "Chile",
          "China",
          "Colombia",
          "Congo, Democratic Republic of the",
          "Croatia",
          "Cyprus",
          "Czech Republic",
          "Denmark",
          "Egypt",
          "Estonia",
          "Ethiopia",
          "Finland",
          "France",
          "Germany",
          "Ghana",
          "Greece",
          "Guatemala",
          "Hong Kong, China",
          "Hungary",
          "Iceland",
          "India",
          "Indonesia",
          "Iraq",
          "Ireland",
          "Italy",
          "Kazakhstan",
          "Korea, Republic of",
          "Kyrgyzstan",
          "Lao People's Dem. Rep.",
          "Latvia",
          "Luxembourg",
          "Macedonia, The former Yugoslav Rep. of",
          "Madagascar",
          "Malta",
          "Mexico",
          "Mongolia",
          "Montenegro",
          "Mozambique",
          "Myanmar",
          "Nepal",
          "Netherlands",
          "New Zealand",
          "Nigeria",
          "Norway",
          "Pakistan",
          "Peru",
          "Philippines",
          "Poland",
          "Puerto Rico",
          "Saint Martin (French part)",
          "Spain",
          "Sri Lanka",
          "Switzerland",
          "United Kingdom",
          "Unknown"
         ],
         "name": "",
         "type": "choropleth",
         "z": {
          "bdata": "AAAAAAAALEBJkiRJkmRXQPP91HjpBgZAFVSic6gCL0DCpGL4xbhHQAAAAAAAADJAqMZLN4kBTUCBZKUkeE9QQDe34SuqLl9AthX7y+6JNEA5bOmM1UpiQM3MzMzMTFBAEKYP2KwfJ0B94mFuwTc8QBYg95oL2TRAAAAAAAAAGEAAAAAAAEBVQE/6pE/6rFdADZ0KsOT8T0DFl8yZdQtKQO/u7u7uyklAMzMzMzOzWkD3HKyUtRhLQAAAAAAAADFACV+OPoCNJUBl8QIAvtE2QGi7tOwJr0NAj+M4Q+mTi0BVcl4W8eljQKAaL90kBhhAsRM7sRMLV0B1ZagLektUQKq5EyOCNCpAnGySGanlqEDkON62MjmKQGZmZmZm5kJAOffZBcTmT0DNF/qu9s5UQAAAAAAAgEZA/1GYTwktcEAAAAAAAABJQHsUrkfhYjRA9wmNTRiyUUAhIiIiIopLQKOFJQIfU2hAAAAAAAAAOUDsXhQqpaJlQKibeRo8bypAAAAAAACAQEBeukkMAj9gQPCnxks3CR1AAAAAAAAAPEAyzCQdJ+aRQMiAwUcUF1JAbwI+T7MAPUAAAAAAAEA6QGyDn77RWDZAAAAAAACAS0DSvoYF8nt2QGZmZmZmZjJAS5BYPgUlTEAv3SQGgVUlQM3MzMzMbDdAFa8qKjmKR0AAAAAAAAAkQH54aJEjuVpAJJYr49UyRUDQZtXnauM3QA==",
          "dtype": "f8"
         }
        }
       ],
       "layout": {
        "coloraxis": {
         "colorbar": {
          "title": {
           "text": "Value"
          }
         },
         "colorscale": [
          [
           0,
           "rgb(255,245,240)"
          ],
          [
           0.125,
           "rgb(254,224,210)"
          ],
          [
           0.25,
           "rgb(252,187,161)"
          ],
          [
           0.375,
           "rgb(252,146,114)"
          ],
          [
           0.5,
           "rgb(251,106,74)"
          ],
          [
           0.625,
           "rgb(239,59,44)"
          ],
          [
           0.75,
           "rgb(203,24,29)"
          ],
          [
           0.875,
           "rgb(165,15,21)"
          ],
          [
           1,
           "rgb(103,0,13)"
          ]
         ]
        },
        "geo": {
         "center": {},
         "domain": {
          "x": [
           0,
           1
          ],
          "y": [
           0,
           1
          ]
         },
         "projection": {
          "type": "natural earth"
         }
        },
        "height": 500,
        "legend": {
         "tracegroupgap": 0
        },
        "template": {
         "data": {
          "bar": [
           {
            "error_x": {
             "color": "#2a3f5f"
            },
            "error_y": {
             "color": "#2a3f5f"
            },
            "marker": {
             "line": {
              "color": "#E5ECF6",
              "width": 0.5
             },
             "pattern": {
              "fillmode": "overlay",
              "size": 10,
              "solidity": 0.2
             }
            },
            "type": "bar"
           }
          ],
          "barpolar": [
           {
            "marker": {
             "line": {
              "color": "#E5ECF6",
              "width": 0.5
             },
             "pattern": {
              "fillmode": "overlay",
              "size": 10,
              "solidity": 0.2
             }
            },
            "type": "barpolar"
           }
          ],
          "carpet": [
           {
            "aaxis": {
             "endlinecolor": "#2a3f5f",
             "gridcolor": "white",
             "linecolor": "white",
             "minorgridcolor": "white",
             "startlinecolor": "#2a3f5f"
            },
            "baxis": {
             "endlinecolor": "#2a3f5f",
             "gridcolor": "white",
             "linecolor": "white",
             "minorgridcolor": "white",
             "startlinecolor": "#2a3f5f"
            },
            "type": "carpet"
           }
          ],
          "choropleth": [
           {
            "colorbar": {
             "outlinewidth": 0,
             "ticks": ""
            },
            "type": "choropleth"
           }
          ],
          "contour": [
           {
            "colorbar": {
             "outlinewidth": 0,
             "ticks": ""
            },
            "colorscale": [
             [
              0,
              "#0d0887"
             ],
             [
              0.1111111111111111,
              "#46039f"
             ],
             [
              0.2222222222222222,
              "#7201a8"
             ],
             [
              0.3333333333333333,
              "#9c179e"
             ],
             [
              0.4444444444444444,
              "#bd3786"
             ],
             [
              0.5555555555555556,
              "#d8576b"
             ],
             [
              0.6666666666666666,
              "#ed7953"
             ],
             [
              0.7777777777777778,
              "#fb9f3a"
             ],
             [
              0.8888888888888888,
              "#fdca26"
             ],
             [
              1,
              "#f0f921"
             ]
            ],
            "type": "contour"
           }
          ],
          "contourcarpet": [
           {
            "colorbar": {
             "outlinewidth": 0,
             "ticks": ""
            },
            "type": "contourcarpet"
           }
          ],
          "heatmap": [
           {
            "colorbar": {
             "outlinewidth": 0,
             "ticks": ""
            },
            "colorscale": [
             [
              0,
              "#0d0887"
             ],
             [
              0.1111111111111111,
              "#46039f"
             ],
             [
              0.2222222222222222,
              "#7201a8"
             ],
             [
              0.3333333333333333,
              "#9c179e"
             ],
             [
              0.4444444444444444,
              "#bd3786"
             ],
             [
              0.5555555555555556,
              "#d8576b"
             ],
             [
              0.6666666666666666,
              "#ed7953"
             ],
             [
              0.7777777777777778,
              "#fb9f3a"
             ],
             [
              0.8888888888888888,
              "#fdca26"
             ],
             [
              1,
              "#f0f921"
             ]
            ],
            "type": "heatmap"
           }
          ],
          "histogram": [
           {
            "marker": {
             "pattern": {
              "fillmode": "overlay",
              "size": 10,
              "solidity": 0.2
             }
            },
            "type": "histogram"
           }
          ],
          "histogram2d": [
           {
            "colorbar": {
             "outlinewidth": 0,
             "ticks": ""
            },
            "colorscale": [
             [
              0,
              "#0d0887"
             ],
             [
              0.1111111111111111,
              "#46039f"
             ],
             [
              0.2222222222222222,
              "#7201a8"
             ],
             [
              0.3333333333333333,
              "#9c179e"
             ],
             [
              0.4444444444444444,
              "#bd3786"
             ],
             [
              0.5555555555555556,
              "#d8576b"
             ],
             [
              0.6666666666666666,
              "#ed7953"
             ],
             [
              0.7777777777777778,
              "#fb9f3a"
             ],
             [
              0.8888888888888888,
              "#fdca26"
             ],
             [
              1,
              "#f0f921"
             ]
            ],
            "type": "histogram2d"
           }
          ],
          "histogram2dcontour": [
           {
            "colorbar": {
             "outlinewidth": 0,
             "ticks": ""
            },
            "colorscale": [
             [
              0,
              "#0d0887"
             ],
             [
              0.1111111111111111,
              "#46039f"
             ],
             [
              0.2222222222222222,
              "#7201a8"
             ],
             [
              0.3333333333333333,
              "#9c179e"
             ],
             [
              0.4444444444444444,
              "#bd3786"
             ],
             [
              0.5555555555555556,
              "#d8576b"
             ],
             [
              0.6666666666666666,
              "#ed7953"
             ],
             [
              0.7777777777777778,
              "#fb9f3a"
             ],
             [
              0.8888888888888888,
              "#fdca26"
             ],
             [
              1,
              "#f0f921"
             ]
            ],
            "type": "histogram2dcontour"
           }
          ],
          "mesh3d": [
           {
            "colorbar": {
             "outlinewidth": 0,
             "ticks": ""
            },
            "type": "mesh3d"
           }
          ],
          "parcoords": [
           {
            "line": {
             "colorbar": {
              "outlinewidth": 0,
              "ticks": ""
             }
            },
            "type": "parcoords"
           }
          ],
          "pie": [
           {
            "automargin": true,
            "type": "pie"
           }
          ],
          "scatter": [
           {
            "fillpattern": {
             "fillmode": "overlay",
             "size": 10,
             "solidity": 0.2
            },
            "type": "scatter"
           }
          ],
          "scatter3d": [
           {
            "line": {
             "colorbar": {
              "outlinewidth": 0,
              "ticks": ""
             }
            },
            "marker": {
             "colorbar": {
              "outlinewidth": 0,
              "ticks": ""
             }
            },
            "type": "scatter3d"
           }
          ],
          "scattercarpet": [
           {
            "marker": {
             "colorbar": {
              "outlinewidth": 0,
              "ticks": ""
             }
            },
            "type": "scattercarpet"
           }
          ],
          "scattergeo": [
           {
            "marker": {
             "colorbar": {
              "outlinewidth": 0,
              "ticks": ""
             }
            },
            "type": "scattergeo"
           }
          ],
          "scattergl": [
           {
            "marker": {
             "colorbar": {
              "outlinewidth": 0,
              "ticks": ""
             }
            },
            "type": "scattergl"
           }
          ],
          "scattermap": [
           {
            "marker": {
             "colorbar": {
              "outlinewidth": 0,
              "ticks": ""
             }
            },
            "type": "scattermap"
           }
          ],
          "scattermapbox": [
           {
            "marker": {
             "colorbar": {
              "outlinewidth": 0,
              "ticks": ""
             }
            },
            "type": "scattermapbox"
           }
          ],
          "scatterpolar": [
           {
            "marker": {
             "colorbar": {
              "outlinewidth": 0,
              "ticks": ""
             }
            },
            "type": "scatterpolar"
           }
          ],
          "scatterpolargl": [
           {
            "marker": {
             "colorbar": {
              "outlinewidth": 0,
              "ticks": ""
             }
            },
            "type": "scatterpolargl"
           }
          ],
          "scatterternary": [
           {
            "marker": {
             "colorbar": {
              "outlinewidth": 0,
              "ticks": ""
             }
            },
            "type": "scatterternary"
           }
          ],
          "surface": [
           {
            "colorbar": {
             "outlinewidth": 0,
             "ticks": ""
            },
            "colorscale": [
             [
              0,
              "#0d0887"
             ],
             [
              0.1111111111111111,
              "#46039f"
             ],
             [
              0.2222222222222222,
              "#7201a8"
             ],
             [
              0.3333333333333333,
              "#9c179e"
             ],
             [
              0.4444444444444444,
              "#bd3786"
             ],
             [
              0.5555555555555556,
              "#d8576b"
             ],
             [
              0.6666666666666666,
              "#ed7953"
             ],
             [
              0.7777777777777778,
              "#fb9f3a"
             ],
             [
              0.8888888888888888,
              "#fdca26"
             ],
             [
              1,
              "#f0f921"
             ]
            ],
            "type": "surface"
           }
          ],
          "table": [
           {
            "cells": {
             "fill": {
              "color": "#EBF0F8"
             },
             "line": {
              "color": "white"
             }
            },
            "header": {
             "fill": {
              "color": "#C8D4E3"
             },
             "line": {
              "color": "white"
             }
            },
            "type": "table"
           }
          ]
         },
         "layout": {
          "annotationdefaults": {
           "arrowcolor": "#2a3f5f",
           "arrowhead": 0,
           "arrowwidth": 1
          },
          "autotypenumbers": "strict",
          "coloraxis": {
           "colorbar": {
            "outlinewidth": 0,
            "ticks": ""
           }
          },
          "colorscale": {
           "diverging": [
            [
             0,
             "#8e0152"
            ],
            [
             0.1,
             "#c51b7d"
            ],
            [
             0.2,
             "#de77ae"
            ],
            [
             0.3,
             "#f1b6da"
            ],
            [
             0.4,
             "#fde0ef"
            ],
            [
             0.5,
             "#f7f7f7"
            ],
            [
             0.6,
             "#e6f5d0"
            ],
            [
             0.7,
             "#b8e186"
            ],
            [
             0.8,
             "#7fbc41"
            ],
            [
             0.9,
             "#4d9221"
            ],
            [
             1,
             "#276419"
            ]
           ],
           "sequential": [
            [
             0,
             "#0d0887"
            ],
            [
             0.1111111111111111,
             "#46039f"
            ],
            [
             0.2222222222222222,
             "#7201a8"
            ],
            [
             0.3333333333333333,
             "#9c179e"
            ],
            [
             0.4444444444444444,
             "#bd3786"
            ],
            [
             0.5555555555555556,
             "#d8576b"
            ],
            [
             0.6666666666666666,
             "#ed7953"
            ],
            [
             0.7777777777777778,
             "#fb9f3a"
            ],
            [
             0.8888888888888888,
             "#fdca26"
            ],
            [
             1,
             "#f0f921"
            ]
           ],
           "sequentialminus": [
            [
             0,
             "#0d0887"
            ],
            [
             0.1111111111111111,
             "#46039f"
            ],
            [
             0.2222222222222222,
             "#7201a8"
            ],
            [
             0.3333333333333333,
             "#9c179e"
            ],
            [
             0.4444444444444444,
             "#bd3786"
            ],
            [
             0.5555555555555556,
             "#d8576b"
            ],
            [
             0.6666666666666666,
             "#ed7953"
            ],
            [
             0.7777777777777778,
             "#fb9f3a"
            ],
            [
             0.8888888888888888,
             "#fdca26"
            ],
            [
             1,
             "#f0f921"
            ]
           ]
          },
          "colorway": [
           "#636efa",
           "#EF553B",
           "#00cc96",
           "#ab63fa",
           "#FFA15A",
           "#19d3f3",
           "#FF6692",
           "#B6E880",
           "#FF97FF",
           "#FECB52"
          ],
          "font": {
           "color": "#2a3f5f"
          },
          "geo": {
           "bgcolor": "white",
           "lakecolor": "white",
           "landcolor": "#E5ECF6",
           "showlakes": true,
           "showland": true,
           "subunitcolor": "white"
          },
          "hoverlabel": {
           "align": "left"
          },
          "hovermode": "closest",
          "mapbox": {
           "style": "light"
          },
          "paper_bgcolor": "white",
          "plot_bgcolor": "#E5ECF6",
          "polar": {
           "angularaxis": {
            "gridcolor": "white",
            "linecolor": "white",
            "ticks": ""
           },
           "bgcolor": "#E5ECF6",
           "radialaxis": {
            "gridcolor": "white",
            "linecolor": "white",
            "ticks": ""
           }
          },
          "scene": {
           "xaxis": {
            "backgroundcolor": "#E5ECF6",
            "gridcolor": "white",
            "gridwidth": 2,
            "linecolor": "white",
            "showbackground": true,
            "ticks": "",
            "zerolinecolor": "white"
           },
           "yaxis": {
            "backgroundcolor": "#E5ECF6",
            "gridcolor": "white",
            "gridwidth": 2,
            "linecolor": "white",
            "showbackground": true,
            "ticks": "",
            "zerolinecolor": "white"
           },
           "zaxis": {
            "backgroundcolor": "#E5ECF6",
            "gridcolor": "white",
            "gridwidth": 2,
            "linecolor": "white",
            "showbackground": true,
            "ticks": "",
            "zerolinecolor": "white"
           }
          },
          "shapedefaults": {
           "line": {
            "color": "#2a3f5f"
           }
          },
          "ternary": {
           "aaxis": {
            "gridcolor": "white",
            "linecolor": "white",
            "ticks": ""
           },
           "baxis": {
            "gridcolor": "white",
            "linecolor": "white",
            "ticks": ""
           },
           "bgcolor": "#E5ECF6",
           "caxis": {
            "gridcolor": "white",
            "linecolor": "white",
            "ticks": ""
           }
          },
          "title": {
           "x": 0.05
          },
          "xaxis": {
           "automargin": true,
           "gridcolor": "white",
           "linecolor": "white",
           "ticks": "",
           "title": {
            "standoff": 15
           },
           "zerolinecolor": "white",
           "zerolinewidth": 2
          },
          "yaxis": {
           "automargin": true,
           "gridcolor": "white",
           "linecolor": "white",
           "ticks": "",
           "title": {
            "standoff": 15
           },
           "zerolinecolor": "white",
           "zerolinewidth": 2
          }
         }
        },
        "title": {
         "text": "Global Pollution Levels in 2025"
        },
        "width": 700
       }
      }
     },
     "metadata": {},
     "output_type": "display_data"
    },
    {
     "name": "stdout",
     "output_type": "stream",
     "text": [
      "     Country Label       Value\n",
      "0          Algeria   14.000000\n",
      "1          Andorra   93.571429\n",
      "2        Argentina    2.753375\n",
      "3        Australia   15.505191\n",
      "4          Austria   47.443542\n",
      "..             ...         ...\n",
      "63           Spain   47.079870\n",
      "64       Sri Lanka   10.000000\n",
      "65     Switzerland  106.892796\n",
      "66  United Kingdom   42.397152\n",
      "67         Unknown   23.888350\n",
      "\n",
      "[68 rows x 2 columns]\n"
     ]
    }
   ],
   "source": [
    "df2025 = df[df[\"Last Updated\"].dt.year == 2025]\n",
    "countryPollution = df2025.groupby(\"Country Label\")[\"Value\"].mean().reset_index()\n",
    "fig = px.choropleth(\n",
    "    countryPollution,\n",
    "    locations=\"Country Label\",\n",
    "    locationmode=\"country names\",\n",
    "    color=\"Value\",\n",
    "    hover_name=\"Country Label\",\n",
    "    color_continuous_scale=\"Reds\",\n",
    "    projection=\"natural earth\",\n",
    "    title=\"Global Pollution Levels in 2025\",\n",
    "    width=700,\n",
    "    height=500,\n",
    ")\n",
    "fig.show()\n",
    "print(countryPollution)"
   ]
  },
  {
   "cell_type": "code",
   "execution_count": 20,
   "id": "d255d6c1",
   "metadata": {},
   "outputs": [
    {
     "data": {
      "image/png": "[encoded data removed]",
      "text/plain": [
       "<Figure size 1200x600 with 1 Axes>"
      ]
     },
     "metadata": {},
     "output_type": "display_data"
    }
   ],
   "source": [
    "top10_2025 = df2025.groupby(\"Country Label\")[\"Value\"].mean().reset_index()\n",
    "top10_2025 = top10_2025.sort_values(by= \"Value\" ,ascending=False).head(10)\n",
    "data =  df[df[\"Country Label\"].isin(top10_2025[\"Country Label\"]) & (df[\"Last Updated\"].dt.year.between(2015, 2025))]\n",
    "dataYearly = data.groupby([data[\"Last Updated\"].dt.year, \"Country Label\"])[\"Value\"].mean().reset_index()\n",
    "\n",
    "plt.figure(figsize=(12,6))\n",
    "sns.lineplot(\n",
    "    data=dataYearly,\n",
    "    x=\"Last Updated\",\n",
    "    y=\"Value\",\n",
    "    hue=\"Country Label\",\n",
    "    marker=\"o\"\n",
    ")\n",
    "\n",
    "plt.title(\"Pollution in Top 10 Most Polluted Countries (2015-2025)\", fontsize=14)\n",
    "plt.xlabel(\"Year\")\n",
    "plt.ylabel(\"Average Pollution Level\")\n",
    "plt.legend(title=\"Country\", bbox_to_anchor=(1.05,1), loc=\"upper left\")\n",
    "plt.tight_layout()"
   ]
  },
  {
   "cell_type": "code",
   "execution_count": 24,
   "id": "7a05f2d1",
   "metadata": {},
   "outputs": [
    {
     "data": {
      "text/plain": [
       "Text(0, 0.5, 'Pollution Level')"
      ]
     },
     "execution_count": 24,
     "metadata": {},
     "output_type": "execute_result"
    },
    {
     "data": {
      "image/png": "[encoded data removed]",
      "text/plain": [
       "<Figure size 640x480 with 1 Axes>"
      ]
     },
     "metadata": {},
     "output_type": "display_data"
    }
   ],
   "source": [
    "\n",
    "\n",
    "sns.boxplot(\n",
    "    data= df2025,\n",
    "    y=\"Value\",\n",
    "\n",
    ")\n",
    "plt.title(\"Boxplot of Pollution Levels Across Cities in 2025\")\n",
    "plt.ylabel(\"Pollution Level\")"
   ]
  },
  {
   "cell_type": "code",
   "execution_count": 12,
   "id": "2505ebf0",
   "metadata": {},
   "outputs": [
    {
     "name": "stderr",
     "output_type": "stream",
     "text": [
      "Unknown not found in regex\n",
      "Unknown not found in regex\n",
      "USSR not found in regex\n",
      "Unknown not found in regex\n",
      "Serbia and Montenegro not found in regex\n",
      "Unknown not found in regex\n",
      "Unknown not found in regex\n",
      "Unknown not found in regex\n",
      "Unknown not found in regex\n"
     ]
    }
   ],
   "source": [
    "import country_converter as coco\n",
    "\n",
    "cc = coco.CountryConverter()\n",
    "df[\"Region\"] = cc.convert(names=df[\"Country Label\"], to=\"continent\")\n",
    "df2025 = df[df[\"Last Updated\"].dt.year == 2025]\n"
   ]
  },
  {
   "cell_type": "code",
   "execution_count": 25,
   "id": "e3c68e27",
   "metadata": {},
   "outputs": [
    {
     "data": {
      "text/plain": [
       "Text(0.5, 1.0, 'Global Regional pollution in 2025')"
      ]
     },
     "execution_count": 25,
     "metadata": {},
     "output_type": "execute_result"
    },
    {
     "data": {
      "image/png": "[encoded data removed]",
      "text/plain": [
       "<Figure size 700x700 with 1 Axes>"
      ]
     },
     "metadata": {},
     "output_type": "display_data"
    }
   ],
   "source": [
    "# filter not found\n",
    "region = df2025.groupby(\"Region\")[\"Value\"].mean().reset_index()\n",
    "region = region[region[\"Region\"] != \"not found\"]\n",
    "\n",
    "\n",
    "\n",
    "\n",
    "plt.figure(figsize=(7, 7))\n",
    "plt.pie(\n",
    "    region[\"Value\"],\n",
    "    labels=region[\"Region\"],\n",
    "    autopct=\"%1.1f%%\",  \n",
    ")\n",
    "\n",
    "plt.title(\"Global Regional pollution in 2025\")"
   ]
  },
  {
   "cell_type": "code",
   "execution_count": 32,
   "id": "4d828664",
   "metadata": {},
   "outputs": [
    {
     "data": {
      "text/plain": [
       "<matplotlib.legend.Legend at 0x168265c70>"
      ]
     },
     "execution_count": 32,
     "metadata": {},
     "output_type": "execute_result"
    },
    {
     "data": {
      "image/png": "[encoded data removed]",
      "text/plain": [
       "<Figure size 1000x600 with 1 Axes>"
      ]
     },
     "metadata": {},
     "output_type": "display_data"
    }
   ],
   "source": [
    "cause_of_pollution = df2025.groupby([\"Region\", \"Pollutant\"])[\"Value\"].mean().reset_index()\n",
    "cause_of_pollution = cause_of_pollution[cause_of_pollution[\"Region\"] != \"not found\"]\n",
    "filter = [\"PM10\", \"PM2.5\", \"O3\", \"CO\", \"NO2\", \"SO2\", \"PM1\"]\n",
    "cause_of_pollution = cause_of_pollution[cause_of_pollution[\"Pollutant\"].isin(filter)]\n",
    "\n",
    "plt.figure(figsize=(10,6))\n",
    "sns.barplot(data=cause_of_pollution, x=\"Region\", y=\"Value\", hue=\"Pollutant\")\n",
    "\n",
    "plt.title(\"Cause of Pollution in every continent 2025\")\n",
    "plt.xticks(rotation=30)\n",
    "plt.legend(title=\"Pollutant\", bbox_to_anchor=(1.05, 1), loc='upper left')"
   ]
  }
 ],
 "metadata": {
  "kernelspec": {
   "display_name": "Python 3",
   "language": "python",
   "name": "python3"
  },
  "language_info": {
   "codemirror_mode": {
    "name": "ipython",
    "version": 3
   },
   "file_extension": ".py",
   "mimetype": "text/x-python",
   "name": "python",
   "nbconvert_exporter": "python",
   "pygments_lexer": "ipython3",
   "version": "3.9.6"
  }
 },
 "nbformat": 4,
 "nbformat_minor": 5
}
